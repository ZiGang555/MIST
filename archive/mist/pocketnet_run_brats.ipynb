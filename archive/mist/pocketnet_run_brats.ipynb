{
 "cells": [
  {
   "cell_type": "code",
   "execution_count": 1,
   "metadata": {},
   "outputs": [],
   "source": [
    "# !pip install -U -q antspyx\n",
    "# !pip install -U -q SimpleITK\n",
    "# !pip install -U -q tqdm\n",
    "# !pip install -U -q psutil\n",
    "# !pip install -U -q tensorflow_addons\n",
    "# !pip install -U -q pynvml"
   ]
  },
  {
   "cell_type": "code",
   "execution_count": 2,
   "metadata": {},
   "outputs": [
    {
     "name": "stderr",
     "output_type": "stream",
     "text": [
      "Matplotlib created a temporary config/cache directory at /tmp/matplotlib-97bgpcrv because the default path (/.config/matplotlib) is not a writable directory; it is highly recommended to set the MPLCONFIGDIR environment variable to a writable directory, in particular to speed up the import of Matplotlib and to better support multiprocessing.\n"
     ]
    }
   ],
   "source": [
    "import json\n",
    "import os\n",
    "\n",
    "from runtime import RunTime"
   ]
  },
  {
   "cell_type": "code",
   "execution_count": 3,
   "metadata": {
    "scrolled": true
   },
   "outputs": [
    {
     "name": "stdout",
     "output_type": "stream",
     "text": [
      "Setting up GPU...\n",
      "INFO:tensorflow:Mixed precision compatibility check (mixed_float16): OK\n",
      "Your GPU will likely run quickly with dtype policy mixed_float16 as it has compute capability of at least 7.0. Your GPU: Quadro RTX 8000, compute capability 7.5\n",
      "Starting fold 0...\n",
      "Epoch 1/5\n",
      "250/250 [==============================] - 94s 328ms/step - loss: 0.2385\n",
      "INFO:tensorflow:Assets written to: /tf/data/brats_2020/models/pocketnet/unet_pocket/brats2020_pocket_unet_current_model_split_1/assets\n",
      "Val loss IMPROVED from inf to 0.2060135304927826\n",
      "INFO:tensorflow:Assets written to: /tf/data/brats_2020/models/pocketnet/unet_pocket/brats2020_pocket_unet_best_model_split_1/assets\n",
      "Epoch 2/5\n",
      "250/250 [==============================] - 91s 336ms/step - loss: 0.1907\n",
      "INFO:tensorflow:Assets written to: /tf/data/brats_2020/models/pocketnet/unet_pocket/brats2020_pocket_unet_current_model_split_1/assets\n",
      "Val loss IMPROVED from 0.2060135304927826 to 0.09908407926559448\n",
      "INFO:tensorflow:Assets written to: /tf/data/brats_2020/models/pocketnet/unet_pocket/brats2020_pocket_unet_best_model_split_1/assets\n",
      "Epoch 3/5\n",
      "250/250 [==============================] - 89s 324ms/step - loss: 0.1872\n",
      "INFO:tensorflow:Assets written to: /tf/data/brats_2020/models/pocketnet/unet_pocket/brats2020_pocket_unet_current_model_split_1/assets\n",
      "Val loss IMPROVED from 0.09908407926559448 to 0.0767887681722641\n",
      "INFO:tensorflow:Assets written to: /tf/data/brats_2020/models/pocketnet/unet_pocket/brats2020_pocket_unet_best_model_split_1/assets\n",
      "Epoch 4/5\n",
      "250/250 [==============================] - 89s 331ms/step - loss: 0.1764\n",
      "INFO:tensorflow:Assets written to: /tf/data/brats_2020/models/pocketnet/unet_pocket/brats2020_pocket_unet_current_model_split_1/assets\n",
      "Val loss IMPROVED from 0.0767887681722641 to 0.07020115107297897\n",
      "INFO:tensorflow:Assets written to: /tf/data/brats_2020/models/pocketnet/unet_pocket/brats2020_pocket_unet_best_model_split_1/assets\n",
      "Epoch 5/5\n",
      "250/250 [==============================] - 91s 339ms/step - loss: 0.1777\n",
      "INFO:tensorflow:Assets written to: /tf/data/brats_2020/models/pocketnet/unet_pocket/brats2020_pocket_unet_current_model_split_1/assets\n",
      "Val loss of DID NOT improve from 0.07020115107297897\n"
     ]
    },
    {
     "ename": "KeyboardInterrupt",
     "evalue": "",
     "output_type": "error",
     "traceback": [
      "\u001b[0;31m---------------------------------------------------------------------------\u001b[0m",
      "\u001b[0;31mKeyboardInterrupt\u001b[0m                         Traceback (most recent call last)",
      "Input \u001b[0;32mIn [3]\u001b[0m, in \u001b[0;36m<module>\u001b[0;34m\u001b[0m\n\u001b[1;32m     50\u001b[0m train \u001b[38;5;241m=\u001b[39m RunTime(user_params_json_file)\n\u001b[1;32m     51\u001b[0m \u001b[38;5;28;01mif\u001b[39;00m cnt \u001b[38;5;241m==\u001b[39m \u001b[38;5;241m1\u001b[39m:\n\u001b[0;32m---> 52\u001b[0m     \u001b[43mtrain\u001b[49m\u001b[38;5;241;43m.\u001b[39;49m\u001b[43mrun\u001b[49m\u001b[43m(\u001b[49m\u001b[43mrun_preprocess\u001b[49m\u001b[43m \u001b[49m\u001b[38;5;241;43m=\u001b[39;49m\u001b[43m \u001b[49m\u001b[38;5;28;43;01mFalse\u001b[39;49;00m\u001b[43m)\u001b[49m\n\u001b[1;32m     53\u001b[0m \u001b[38;5;28;01melse\u001b[39;00m:\n\u001b[1;32m     54\u001b[0m     train\u001b[38;5;241m.\u001b[39mrun(run_preprocess \u001b[38;5;241m=\u001b[39m \u001b[38;5;28;01mFalse\u001b[39;00m)\n",
      "File \u001b[0;32m~tf/github/MIST/mist/runtime.py:803\u001b[0m, in \u001b[0;36mRunTime.run\u001b[0;34m(self, run_preprocess)\u001b[0m\n\u001b[1;32m    799\u001b[0m     tf\u001b[38;5;241m.\u001b[39mconfig\u001b[38;5;241m.\u001b[39mexperimental\u001b[38;5;241m.\u001b[39mset_memory_growth(gpu, \u001b[38;5;28;01mTrue\u001b[39;00m)\n\u001b[1;32m    800\u001b[0m \u001b[38;5;66;03m###################################\u001b[39;00m\n\u001b[1;32m    801\u001b[0m \n\u001b[1;32m    802\u001b[0m \u001b[38;5;66;03m# Run training pipeline\u001b[39;00m\n\u001b[0;32m--> 803\u001b[0m \u001b[38;5;28;43mself\u001b[39;49m\u001b[38;5;241;43m.\u001b[39;49m\u001b[43mtrain\u001b[49m\u001b[43m(\u001b[49m\u001b[43m)\u001b[49m\n\u001b[1;32m    805\u001b[0m \u001b[38;5;66;03m# Get final statistics\u001b[39;00m\n\u001b[1;32m    806\u001b[0m mean_row \u001b[38;5;241m=\u001b[39m {\u001b[38;5;124m'\u001b[39m\u001b[38;5;124mid\u001b[39m\u001b[38;5;124m'\u001b[39m: \u001b[38;5;124m'\u001b[39m\u001b[38;5;124mMean\u001b[39m\u001b[38;5;124m'\u001b[39m}\n",
      "File \u001b[0;32m~tf/github/MIST/mist/runtime.py:721\u001b[0m, in \u001b[0;36mRunTime.train\u001b[0;34m(self)\u001b[0m\n\u001b[1;32m    718\u001b[0m test_ds \u001b[38;5;241m=\u001b[39m test_ds\u001b[38;5;241m.\u001b[39mmap(\u001b[38;5;28mself\u001b[39m\u001b[38;5;241m.\u001b[39mdecode_val, num_parallel_calls \u001b[38;5;241m=\u001b[39m tf\u001b[38;5;241m.\u001b[39mdata\u001b[38;5;241m.\u001b[39mAUTOTUNE)\n\u001b[1;32m    720\u001b[0m model \u001b[38;5;241m=\u001b[39m load_model(best_model_name, custom_objects \u001b[38;5;241m=\u001b[39m {\u001b[38;5;124m'\u001b[39m\u001b[38;5;124mloss\u001b[39m\u001b[38;5;124m'\u001b[39m: \u001b[38;5;28mself\u001b[39m\u001b[38;5;241m.\u001b[39mloss\u001b[38;5;241m.\u001b[39mloss_wrapper(alpha)})\n\u001b[0;32m--> 721\u001b[0m \u001b[38;5;28;43mself\u001b[39;49m\u001b[38;5;241;43m.\u001b[39;49m\u001b[43mval_inference\u001b[49m\u001b[43m(\u001b[49m\u001b[43mmodel\u001b[49m\u001b[43m,\u001b[49m\u001b[43m \u001b[49m\u001b[43mtest_df\u001b[49m\u001b[43m,\u001b[49m\u001b[43m \u001b[49m\u001b[43mtest_ds\u001b[49m\u001b[43m)\u001b[49m\n\u001b[1;32m    723\u001b[0m split_cnt \u001b[38;5;241m+\u001b[39m\u001b[38;5;241m=\u001b[39m \u001b[38;5;241m1\u001b[39m\n\u001b[1;32m    725\u001b[0m \u001b[38;5;28;01mdel\u001b[39;00m test_ds, model\n",
      "File \u001b[0;32m~tf/github/MIST/mist/runtime.py:323\u001b[0m, in \u001b[0;36mRunTime.val_inference\u001b[0;34m(self, model, df, ds)\u001b[0m\n\u001b[1;32m    321\u001b[0m markov_images \u001b[38;5;241m=\u001b[39m [ants\u001b[38;5;241m.\u001b[39mfrom_numpy(image[\u001b[38;5;241m.\u001b[39m\u001b[38;5;241m.\u001b[39m\u001b[38;5;241m.\u001b[39m, i]) \u001b[38;5;28;01mfor\u001b[39;00m i \u001b[38;5;129;01min\u001b[39;00m \u001b[38;5;28mrange\u001b[39m(\u001b[38;5;28mself\u001b[39m\u001b[38;5;241m.\u001b[39mn_channels)]\n\u001b[1;32m    322\u001b[0m markov_priors \u001b[38;5;241m=\u001b[39m [ants\u001b[38;5;241m.\u001b[39mfrom_numpy(prediction[\u001b[38;5;241m.\u001b[39m\u001b[38;5;241m.\u001b[39m\u001b[38;5;241m.\u001b[39m, i]) \u001b[38;5;28;01mfor\u001b[39;00m i \u001b[38;5;129;01min\u001b[39;00m \u001b[38;5;28mrange\u001b[39m(\u001b[38;5;28mself\u001b[39m\u001b[38;5;241m.\u001b[39mn_classes)]\n\u001b[0;32m--> 323\u001b[0m priorseg \u001b[38;5;241m=\u001b[39m \u001b[43mants\u001b[49m\u001b[38;5;241;43m.\u001b[39;49m\u001b[43mprior_based_segmentation\u001b[49m\u001b[43m(\u001b[49m\u001b[43mimage\u001b[49m\u001b[43m \u001b[49m\u001b[38;5;241;43m=\u001b[39;49m\u001b[43m \u001b[49m\u001b[43mmarkov_images\u001b[49m\u001b[43m,\u001b[49m\u001b[43m \u001b[49m\n\u001b[1;32m    324\u001b[0m \u001b[43m                                         \u001b[49m\u001b[43mpriors\u001b[49m\u001b[43m \u001b[49m\u001b[38;5;241;43m=\u001b[39;49m\u001b[43m \u001b[49m\u001b[43mmarkov_priors\u001b[49m\u001b[43m,\u001b[49m\u001b[43m \u001b[49m\n\u001b[1;32m    325\u001b[0m \u001b[43m                                         \u001b[49m\u001b[43mmask\u001b[49m\u001b[43m \u001b[49m\u001b[38;5;241;43m=\u001b[39;49m\u001b[43m \u001b[49m\u001b[43mmarkov_mask\u001b[49m\u001b[43m)\u001b[49m\n\u001b[1;32m    327\u001b[0m prediction \u001b[38;5;241m=\u001b[39m priorseg[\u001b[38;5;124m'\u001b[39m\u001b[38;5;124msegmentation\u001b[39m\u001b[38;5;124m'\u001b[39m]\n\u001b[1;32m    328\u001b[0m prediction \u001b[38;5;241m=\u001b[39m prediction\u001b[38;5;241m.\u001b[39mnumpy() \u001b[38;5;241m-\u001b[39m \u001b[38;5;241m1.\u001b[39m\n",
      "File \u001b[0;32m~.local/lib/python3.8/site-packages/ants/segmentation/prior_based_segmentation.py:65\u001b[0m, in \u001b[0;36mprior_based_segmentation\u001b[0;34m(image, priors, mask, priorweight, mrf, iterations)\u001b[0m\n\u001b[1;32m     62\u001b[0m mrf \u001b[38;5;241m=\u001b[39m \u001b[38;5;124m'\u001b[39m\u001b[38;5;124m[\u001b[39m\u001b[38;5;132;01m%s\u001b[39;00m\u001b[38;5;124m,\u001b[39m\u001b[38;5;132;01m%s\u001b[39;00m\u001b[38;5;124m]\u001b[39m\u001b[38;5;124m'\u001b[39m \u001b[38;5;241m%\u001b[39m (\u001b[38;5;28mstr\u001b[39m(mrf), nhood)\n\u001b[1;32m     63\u001b[0m conv \u001b[38;5;241m=\u001b[39m \u001b[38;5;124m'\u001b[39m\u001b[38;5;124m[\u001b[39m\u001b[38;5;132;01m%s\u001b[39;00m\u001b[38;5;124m,0]\u001b[39m\u001b[38;5;124m'\u001b[39m \u001b[38;5;241m%\u001b[39m (\u001b[38;5;28mstr\u001b[39m(iterations))\n\u001b[0;32m---> 65\u001b[0m pseg \u001b[38;5;241m=\u001b[39m \u001b[43matropos\u001b[49m\u001b[43m(\u001b[49m\u001b[43ma\u001b[49m\u001b[38;5;241;43m=\u001b[39;49m\u001b[43mimage\u001b[49m\u001b[43m,\u001b[49m\u001b[43m \u001b[49m\u001b[43mm\u001b[49m\u001b[38;5;241;43m=\u001b[39;49m\u001b[43mmrf\u001b[49m\u001b[43m,\u001b[49m\u001b[43m \u001b[49m\u001b[43mc\u001b[49m\u001b[38;5;241;43m=\u001b[39;49m\u001b[43mconv\u001b[49m\u001b[43m,\u001b[49m\u001b[43m \u001b[49m\u001b[43mi\u001b[49m\u001b[38;5;241;43m=\u001b[39;49m\u001b[43mpriors\u001b[49m\u001b[43m,\u001b[49m\u001b[43m \u001b[49m\u001b[43mx\u001b[49m\u001b[38;5;241;43m=\u001b[39;49m\u001b[43mmask\u001b[49m\u001b[43m,\u001b[49m\u001b[43m \u001b[49m\u001b[43mpriorweight\u001b[49m\u001b[38;5;241;43m=\u001b[39;49m\u001b[43mpriorweight\u001b[49m\u001b[43m)\u001b[49m\n\u001b[1;32m     67\u001b[0m \u001b[38;5;28;01mreturn\u001b[39;00m pseg\n",
      "File \u001b[0;32m~.local/lib/python3.8/site-packages/ants/segmentation/atropos.py:139\u001b[0m, in \u001b[0;36matropos\u001b[0;34m(a, x, i, m, c, priorweight, **kwargs)\u001b[0m\n\u001b[1;32m    137\u001b[0m processed_args \u001b[38;5;241m=\u001b[39m utils\u001b[38;5;241m.\u001b[39m_int_antsProcessArguments(myargs)\n\u001b[1;32m    138\u001b[0m libfn \u001b[38;5;241m=\u001b[39m utils\u001b[38;5;241m.\u001b[39mget_lib_fn(\u001b[38;5;124m'\u001b[39m\u001b[38;5;124mAtropos\u001b[39m\u001b[38;5;124m'\u001b[39m)\n\u001b[0;32m--> 139\u001b[0m retval \u001b[38;5;241m=\u001b[39m \u001b[43mlibfn\u001b[49m\u001b[43m(\u001b[49m\u001b[43mprocessed_args\u001b[49m\u001b[43m)\u001b[49m\n\u001b[1;32m    141\u001b[0m \u001b[38;5;28;01mif\u001b[39;00m retval \u001b[38;5;241m!=\u001b[39m \u001b[38;5;241m0\u001b[39m:\n\u001b[1;32m    142\u001b[0m     warnings\u001b[38;5;241m.\u001b[39mwarn(\u001b[38;5;124m'\u001b[39m\u001b[38;5;124mERROR: Non-zero exit status!\u001b[39m\u001b[38;5;124m'\u001b[39m)\n",
      "\u001b[0;31mKeyboardInterrupt\u001b[0m: "
     ]
    }
   ],
   "source": [
    "models = ['unet'] #, 'resnet', 'densenet', 'hrnet']\n",
    "pockets = [True] #, False]\n",
    "cnt = 1\n",
    "\n",
    "for model in models:\n",
    "    for pocket in pockets:\n",
    "                \n",
    "        if pocket:\n",
    "            base_model_name = 'brats2020_pocket_{}'.format(model)\n",
    "            model_dir = '/tf/data/brats_2020/models/pocketnet/{}_pocket'.format(model)\n",
    "            prediction_dir = '/tf/data/brats_2020/predictions/pocketnet/{}_pocket'.format(model)\n",
    "            results_csv = '/tf/github/MIST/mist/results/brats2020_pocket_{}_results.csv'.format(model)\n",
    "            user_params_json_file = os.path.join('/tf/github/MIST/mist/user_params', \n",
    "                                                 'brats2020_pocket_{}_user_params.json'.format(model))\n",
    "            \n",
    "        else:\n",
    "            base_model_name = 'brats2020_full_{}'.format(model)\n",
    "            model_dir = '/tf/data/brats_2020/models/pocketnet/{}_full'.format(model)\n",
    "            prediction_dir = '/tf/data/brats_2020/predictions/pocketnet/{}_full'.format(model)\n",
    "            results_csv = '/tf/github/MIST/mist/results/brats2020_full_{}_results.csv'.format(model)\n",
    "            user_params_json_file = os.path.join('/tf/github/MIST/mist/user_params', \n",
    "                                                 'brats2020_full_{}_user_params.json'.format(model))\n",
    "        \n",
    "        user_params = {'raw_data_dir': '/tf/data/brats_2020/raw/train',\n",
    "                       'processed_data_dir': '/tf/data/brats_2020/processed/tfrecord',\n",
    "                       'base_model_name': base_model_name,\n",
    "                       'model_dir': model_dir,\n",
    "                       'prediction_dir': prediction_dir,\n",
    "                       'raw_paths_csv': '/tf/github/MIST/mist/path_csv/brats2020_paths.csv',\n",
    "                       'inferred_params': '/tf/github/MIST/mist/inferred_params/brats2020_inferred_params.json',\n",
    "                       'results_csv': results_csv,\n",
    "                       'modality': 'mr',\n",
    "                       'mask': ['seg_binary.nii.gz'], \n",
    "                       'images': {'t1': ['t1.nii.gz'], \n",
    "                                  't2': ['t2.nii.gz'], \n",
    "                                  'tc': ['t1ce.nii.gz'], \n",
    "                                  'fl': ['flair.nii.gz']}, \n",
    "                       'labels': [0, 1],\n",
    "                       'final_classes': {'WT': [1]},\n",
    "                       'loss': 'dice', \n",
    "                       'model': model, \n",
    "                       'pocket': pocket, \n",
    "                       'gpu': 6, \n",
    "                       'folds': 0} \n",
    "\n",
    "        \n",
    "        with open(user_params_json_file, 'w') as outfile: \n",
    "            json.dump(user_params, outfile)\n",
    "            \n",
    "        train = RunTime(user_params_json_file)\n",
    "        if cnt == 1:\n",
    "            train.run(run_preprocess = False)\n",
    "        else:\n",
    "            train.run(run_preprocess = False)\n",
    "            \n",
    "        cnt += 1"
   ]
  },
  {
   "cell_type": "code",
   "execution_count": null,
   "metadata": {},
   "outputs": [],
   "source": []
  },
  {
   "cell_type": "code",
   "execution_count": null,
   "metadata": {},
   "outputs": [],
   "source": []
  }
 ],
 "metadata": {
  "kernelspec": {
   "display_name": "Python 3",
   "language": "python",
   "name": "python3"
  },
  "language_info": {
   "codemirror_mode": {
    "name": "ipython",
    "version": 3
   },
   "file_extension": ".py",
   "mimetype": "text/x-python",
   "name": "python",
   "nbconvert_exporter": "python",
   "pygments_lexer": "ipython3",
   "version": "3.9.4"
  }
 },
 "nbformat": 4,
 "nbformat_minor": 4
}

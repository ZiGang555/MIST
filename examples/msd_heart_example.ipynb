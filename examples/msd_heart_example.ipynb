{
 "cells": [
  {
   "cell_type": "markdown",
   "id": "b1bdad30-a998-4774-82ea-12c03fda144f",
   "metadata": {},
   "source": [
    "# MIST Example Notebook - MSD Dataset"
   ]
  },
  {
   "cell_type": "markdown",
   "id": "2aac4c82-1f52-4835-b613-43abad6fd742",
   "metadata": {},
   "source": [
    "## Getting started\n",
    "\n",
    "This example is intended to be run out of a Docker container with TensorFlow 2.6.0 or later. Once you start this Jupyter notebook in a container, uncomment the cell below to install some necessary dependencies."
   ]
  },
  {
   "cell_type": "code",
   "execution_count": null,
   "id": "7c2a25d0-1d31-40e9-99e7-4eb68e9ddc56",
   "metadata": {},
   "outputs": [],
   "source": [
    "# !pip install -r requirements.txt"
   ]
  },
  {
   "cell_type": "markdown",
   "id": "53d68e72-2ccf-4611-b951-c0ba38fa031a",
   "metadata": {},
   "source": [
    "## Import the necessary scripts\n",
    "\n",
    "Import the necessary scirpts from the `mist/` directory. The three main components are the Preprocess, RunTime, and Inference classes. "
   ]
  },
  {
   "cell_type": "code",
   "execution_count": null,
   "id": "c769b783-bb87-49f4-95f4-ff4b12add8fc",
   "metadata": {},
   "outputs": [],
   "source": [
    "import json\n",
    "\n",
    "# Import preprocess, runtime, and inference scripts\n",
    "from mist.preprocess import Preprocess\n",
    "from mist.runtime import RunTime\n",
    "\n",
    "# Import the msd conversion tool from mist.utils\n",
    "from mist.utils import convert_msd"
   ]
  },
  {
   "cell_type": "markdown",
   "id": "8c79f648-73d9-4ab6-85d8-d6bb42dd7511",
   "metadata": {},
   "source": [
    "## Convert MSD data to MIST format\n",
    "\n",
    "MIST provides a simple conversion script to convert MSD formated data to MIST compatible datasets."
   ]
  },
  {
   "cell_type": "code",
   "execution_count": null,
   "id": "69b8f1a1",
   "metadata": {},
   "outputs": [],
   "source": [
    "msd_source = '/tf/data/msd/original/Task02_Heart/'\n",
    "mist_dest = '/tf/data/msd/mist/Task02_Heart/'\n",
    "convert_msd(msd_source, mist_dest)"
   ]
  },
  {
   "cell_type": "markdown",
   "id": "d0e43fe4",
   "metadata": {},
   "source": [
    "MIST will convert the MSD dataset and provide a sample user parameters JSON file. The parameters JSON file will be written to the same destination as the newly formated MIST data. You can run the MIST pipeline with this provided parameters file as seen below."
   ]
  },
  {
   "cell_type": "code",
   "execution_count": null,
   "id": "1a974172",
   "metadata": {},
   "outputs": [],
   "source": [
    "json_file = '/tf/data/msd/mist/Task02_Heart/user_params.json'\n",
    "\n",
    "# Preprocess training data\n",
    "preproccess = Preprocess(json_file)\n",
    "preproccess.run()\n",
    "\n",
    "# # Run MIST pipeline\n",
    "runtime = RunTime(json_file)\n",
    "runtime.run()"
   ]
  },
  {
   "cell_type": "markdown",
   "id": "73d29160",
   "metadata": {},
   "source": [
    "Alternatively, you can copy and paste the printed output of the msd conversion script and customize the inputs to the MSD pipeline. Below we use mutli-gpu training, specify which folds to train on, modify the number of epochs per fold, and give the pipeline a specific patch size to use."
   ]
  },
  {
   "cell_type": "code",
   "execution_count": null,
   "id": "27e409f0",
   "metadata": {
    "scrolled": true
   },
   "outputs": [],
   "source": [
    "user_params = {'train_data_dir': '/tf/data/msd/mist/Task02_Heart/raw/train',\n",
    "               'test_data_dir': '/tf/data/msd/mist/Task02_Heart/raw/test',\n",
    "               'processed_data_dir': '/tf/data/msd/mist/Task02_Heart/tfrecord',\n",
    "               'log_dir': '/tf/data/msd/mist/Task02_Heart/logs',\n",
    "               'base_model_name': 'LeftAtrium',\n",
    "               'model_dir': '/tf/data/msd/mist/Task02_Heart/models',\n",
    "               'prediction_dir': '/tf/data/msd/mist/Task02_Heart/predictions',\n",
    "               'raw_paths_csv': '/tf/data/msd/mist/Task02_Heart/paths.csv',\n",
    "               'inferred_params': '/tf/data/msd/mist/Task02_Heart/inferred_params.json',\n",
    "               'results_csv': '/tf/data/msd/mist/Task02_Heart/results.csv',\n",
    "               'modality': 'mr',\n",
    "               'mask': ['mask.nii.gz'],\n",
    "               'images': {'MRI': ['MRI.nii.gz']},\n",
    "               'labels': [0, 1],\n",
    "               'final_classes': {'left_atrium': [1]},\n",
    "               'loss': 'dice',\n",
    "               'model': 'unet',\n",
    "               'folds': 0,\n",
    "               'gpu': [3, 7],\n",
    "               'epochs': 5, \n",
    "               'patch_size': [128, 128, 128]}\n",
    "\n",
    "json_file = '/tf/data/msd/mist/Task02_Heart/user_params.json'\n",
    "with open(json_file, 'w') as outfile: \n",
    "    json.dump(user_params, outfile, indent = 2)\n",
    "    \n",
    "# Preprocess training data\n",
    "preprocess = Preprocess(json_file)\n",
    "preprocess.run()\n",
    "\n",
    "# Run MIST pipeline\n",
    "runtime = RunTime(json_file)\n",
    "runtime.run()"
   ]
  },
  {
   "cell_type": "code",
   "execution_count": null,
   "id": "d75ce0a6",
   "metadata": {},
   "outputs": [],
   "source": []
  }
 ],
 "metadata": {
  "kernelspec": {
   "display_name": "Python 3",
   "language": "python",
   "name": "python3"
  },
  "language_info": {
   "codemirror_mode": {
    "name": "ipython",
    "version": 3
   },
   "file_extension": ".py",
   "mimetype": "text/x-python",
   "name": "python",
   "nbconvert_exporter": "python",
   "pygments_lexer": "ipython3",
   "version": "3.9.4"
  }
 },
 "nbformat": 4,
 "nbformat_minor": 5
}

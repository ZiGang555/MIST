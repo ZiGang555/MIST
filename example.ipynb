{
 "cells": [
  {
   "cell_type": "markdown",
   "id": "b1bdad30-a998-4774-82ea-12c03fda144f",
   "metadata": {},
   "source": [
    "## MIST Example Notebook"
   ]
  },
  {
   "cell_type": "markdown",
   "id": "2aac4c82-1f52-4835-b613-43abad6fd742",
   "metadata": {},
   "source": [
    "#### Getting started\n",
    "\n",
    "MIST requires TensorFlow 2.6.0 or later. Once you start this Jupyter notebook, uncomment the cell below to install some necessary dependencies."
   ]
  },
  {
   "cell_type": "code",
   "execution_count": null,
   "id": "7c2a25d0-1d31-40e9-99e7-4eb68e9ddc56",
   "metadata": {},
   "outputs": [],
   "source": [
    "# !pip install -r requirements.txt"
   ]
  },
  {
   "cell_type": "markdown",
   "id": "53d68e72-2ccf-4611-b951-c0ba38fa031a",
   "metadata": {},
   "source": [
    "#### Import the necessary scripts\n",
    "\n",
    "To run the MIST pipeline, we first import the RunTime and Preprocess classes. The preprocessing pipeline is containted within the Preprocess class. The RunTime class is the main work horse of the pipeline. It builds the network architecture, trains the model(s), runs inference on validation and test data, and performs determines with postprocessing is applied to predictions."
   ]
  },
  {
   "cell_type": "code",
   "execution_count": null,
   "id": "c769b783-bb87-49f4-95f4-ff4b12add8fc",
   "metadata": {},
   "outputs": [],
   "source": [
    "import json\n",
    "\n",
    "# Import preprocess, runtime classes scripts\n",
    "from mist.preprocess import Preprocess\n",
    "from mist.runtime import RunTime"
   ]
  },
  {
   "cell_type": "markdown",
   "id": "8c79f648-73d9-4ab6-85d8-d6bb42dd7511",
   "metadata": {},
   "source": [
    "#### Create your user inputs file\n",
    "\n",
    "To initiate the MIST pipeline, you need to provide it a JSON file with some parameters (i.e., path to data, output paths, and basic training parameters). Below is an example input JSON file to run the MIST pipeline on the BraTS 2020 dataset."
   ]
  },
  {
   "cell_type": "code",
   "execution_count": null,
   "id": "5e90a49e-87be-4a20-ac77-e328e87f78a5",
   "metadata": {},
   "outputs": [],
   "source": [
    "user_params = {'train_data_dir': '/tf/data/brats_2020/raw/train/',\n",
    "               'test_data_dir': '/tf/data/brats_2020/raw/validation/',\n",
    "               'processed_data_dir': '/tf/data/brats_2020/processed/tfrecord/',\n",
    "               'base_model_name': 'brats2020',\n",
    "               'model_dir': '/tf/data/brats_2020/models/mist/',\n",
    "               'prediction_dir': '/tf/data/brats_2020/predictions/mist/',\n",
    "               'raw_paths_csv': '/tf/github/brats-seg/paths.csv',\n",
    "               'inferred_params': '/tf/github/brats-seg/inferred_params.json',\n",
    "               'results_csv': '/tf/github/brats-seg/results.csv',\n",
    "               'modality': 'mr',\n",
    "               'mask': ['seg.nii.gz'], \n",
    "               'images': {'t1': ['t1.nii.gz'], \n",
    "                          't2': ['t2.nii.gz'], \n",
    "                          'tc': ['t1ce.nii.gz'], \n",
    "                          'fl': ['flair.nii.gz']}, \n",
    "               'labels': [0, 1, 2, 4],\n",
    "               'final_classes': {'WT': [1, 2, 4], 'TC': [1, 4], 'ET': [4]},\n",
    "               'loss': 'dice',\n",
    "               'model': 'unet',\n",
    "               'folds': 0,\n",
    "               'gpu': 6,\n",
    "               'epochs': 250}\n",
    "\n",
    "json_file = '/tf/github/brats-seg/user_params.json'\n",
    "with open(json_file, 'w') as outfile: \n",
    "    json.dump(user_params, outfile, indent = 2)"
   ]
  },
  {
   "cell_type": "markdown",
   "id": "81e403e0-b882-4591-b8cc-e41e1c52f7f2",
   "metadata": {},
   "source": [
    "#### Run MIST pipeline\n",
    "\n",
    "Once you have your input JSON file, simply run command in the following cell to initiate the MIST training and inference pipeline. Enjoy!"
   ]
  },
  {
   "cell_type": "code",
   "execution_count": null,
   "id": "0987f672-8430-43fa-8e1b-d6d1ddb77b7a",
   "metadata": {},
   "outputs": [],
   "source": [
    "# Preprocess training data\n",
    "preproccess = Preprocess(json_file)\n",
    "preproccess.run()\n",
    "\n",
    "# Run MIST pipeline\n",
    "runtime = RunTime(json_file)\n",
    "runtime.run()"
   ]
  }
 ],
 "metadata": {
  "kernelspec": {
   "display_name": "Python 3",
   "language": "python",
   "name": "python3"
  },
  "language_info": {
   "codemirror_mode": {
    "name": "ipython",
    "version": 3
   },
   "file_extension": ".py",
   "mimetype": "text/x-python",
   "name": "python",
   "nbconvert_exporter": "python",
   "pygments_lexer": "ipython3",
   "version": "3.8.10"
  }
 },
 "nbformat": 4,
 "nbformat_minor": 5
}

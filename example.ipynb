{
 "cells": [
  {
   "cell_type": "markdown",
   "id": "b1bdad30-a998-4774-82ea-12c03fda144f",
   "metadata": {},
   "source": [
    "## MIST Example Notebook"
   ]
  },
  {
   "cell_type": "markdown",
   "id": "2aac4c82-1f52-4835-b613-43abad6fd742",
   "metadata": {},
   "source": [
    "#### Getting started\n",
    "\n",
    "It is highly recommended that you run MIST in a Docker container with TensorFlow 2.6.0 or later. Once you start this Jupyter notebook in a container, uncomment the cell below to install some necessary dependencies."
   ]
  },
  {
   "cell_type": "code",
   "execution_count": null,
   "id": "7c2a25d0-1d31-40e9-99e7-4eb68e9ddc56",
   "metadata": {},
   "outputs": [],
   "source": [
    "# !pip install -U antspyx\n",
    "# !pip install -U SimpleITK\n",
    "# !pip install -U tqdm\n",
    "# !pip install -U psutil\n",
    "# !pip install -U tensorflow_addons"
   ]
  },
  {
   "cell_type": "markdown",
   "id": "53d68e72-2ccf-4611-b951-c0ba38fa031a",
   "metadata": {},
   "source": [
    "#### Import the necessary scripts\n",
    "\n",
    "The python file 'runtime.py' is the main workhorse for this pipeline. It calls the preprocessing pipeline, network architecture, and prediction metrics used for the global training and inference pipeline."
   ]
  },
  {
   "cell_type": "code",
   "execution_count": null,
   "id": "c769b783-bb87-49f4-95f4-ff4b12add8fc",
   "metadata": {},
   "outputs": [],
   "source": [
    "import json\n",
    "import os\n",
    "\n",
    "# Don't show all of the tensorflow logs\n",
    "os.environ['TF_CPP_MIN_LOG_LEVEL'] = '3' \n",
    "os.environ['TF_CPP_MIN_VLOG_LEVEL'] = '3'\n",
    "\n",
    "# Select your GPU (optional)\n",
    "os.environ['CUDA_VISIBLE_DEVICES'] = '0'\n",
    "\n",
    "# Import runtime script\n",
    "from mist.runtime import RunTime"
   ]
  },
  {
   "cell_type": "markdown",
   "id": "8c79f648-73d9-4ab6-85d8-d6bb42dd7511",
   "metadata": {},
   "source": [
    "#### Create your user inputs file\n",
    "\n",
    "To initiate the MIST pipeline, you need to provide it a JSON file with some parameters (i.e., path to data, output paths, and basic training parameters). Below is an example input JSON file to run the MIST pipeline on the LiTS dataset."
   ]
  },
  {
   "cell_type": "code",
   "execution_count": null,
   "id": "25db5205-dbc4-458f-9424-df9e9545b4e7",
   "metadata": {},
   "outputs": [],
   "source": [
    "user_params_lits = {'raw_data_dir': '/tf/data/lits/raw/train',\n",
    "                    'processed_data_dir': '/tf/data/lits/processed/tfrecord',\n",
    "                    'base_model_name': 'mist_lits_example',\n",
    "                    'model_dir': '/tf/data/lits/models/mist_example,\n",
    "                    'prediction_dir': '/tf/data/lits/predictions/mist_example,\n",
    "                    'raw_paths_csv': '/tf/github/MIST/mist_example/lits_paths.csv',\n",
    "                    'inferred_params': '/tf/github/MIST/mist_example/lits_inferred_params.json',\n",
    "                    'results_csv': '/tf/github/MIST/mist_example/lits_results.csv',\n",
    "                    'modality': 'ct',\n",
    "                    'mask': ['segmentation'], \n",
    "                    'images': {'volume': ['volume']}, \n",
    "                    'labels': [0, 1, 2],\n",
    "                    'final_classes': {'Liver': [1, 2], 'Tumor': [2]},\n",
    "                    'loss': 'gdl', \n",
    "                    'model': 'unet', \n",
    "                    'pocket': True}\n",
    "\n",
    "user_params_json_file = '/tf/github/MIST/mist_example/lits_user_params.json'\n",
    "with open(user_params_json_file, 'w') as outfile: \n",
    "    json.dump(user_params_lits, outfile)"
   ]
  },
  {
   "cell_type": "markdown",
   "id": "81e403e0-b882-4591-b8cc-e41e1c52f7f2",
   "metadata": {},
   "source": [
    "#### Run MIST pipeline\n",
    "\n",
    "Once you have your input JSON file, simply run command in the following cell to initiate the MIST training and inference pipeline. Enjoy!"
   ]
  },
  {
   "cell_type": "code",
   "execution_count": null,
   "id": "0987f672-8430-43fa-8e1b-d6d1ddb77b7a",
   "metadata": {},
   "outputs": [],
   "source": [
    "# Create runtime instance\n",
    "train = RunTime(json_file)\n",
    "\n",
    "# Run the runtime instance\n",
    "train.run(run_preprocess = True)"
   ]
  },
  {
   "cell_type": "markdown",
   "id": "f1de4dbc-7596-427d-bda2-bd55a590e04a",
   "metadata": {},
   "source": [
    "#### Quick note about the ```run_preprocess``` parameter\n",
    "\n",
    "The preprocessing pipeline can take quite a while to run depending on the training data. When running the MIST pipeline for the first time, set ```run_preprocess``` to ```True```. However, if you want to try a different 'model' or 'loss' parameter in your input JSON file after your initial run, then set the ```run_preprocess``` to ```False```. This will skip the preprocessing pipeline"
   ]
  }
 ],
 "metadata": {
  "kernelspec": {
   "display_name": "Python 3",
   "language": "python",
   "name": "python3"
  },
  "language_info": {
   "codemirror_mode": {
    "name": "ipython",
    "version": 3
   },
   "file_extension": ".py",
   "mimetype": "text/x-python",
   "name": "python",
   "nbconvert_exporter": "python",
   "pygments_lexer": "ipython3",
   "version": "3.9.4"
  }
 },
 "nbformat": 4,
 "nbformat_minor": 5
}
